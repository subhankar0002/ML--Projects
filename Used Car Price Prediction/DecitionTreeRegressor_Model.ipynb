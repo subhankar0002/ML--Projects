{
 "cells": [
  {
   "cell_type": "code",
   "execution_count": 97,
   "id": "66fb0869",
   "metadata": {},
   "outputs": [
    {
     "data": {
      "text/html": [
       "<div>\n",
       "<style scoped>\n",
       "    .dataframe tbody tr th:only-of-type {\n",
       "        vertical-align: middle;\n",
       "    }\n",
       "\n",
       "    .dataframe tbody tr th {\n",
       "        vertical-align: top;\n",
       "    }\n",
       "\n",
       "    .dataframe thead th {\n",
       "        text-align: right;\n",
       "    }\n",
       "</style>\n",
       "<table border=\"1\" class=\"dataframe\">\n",
       "  <thead>\n",
       "    <tr style=\"text-align: right;\">\n",
       "      <th></th>\n",
       "      <th>Company</th>\n",
       "      <th>Model</th>\n",
       "      <th>FuelType</th>\n",
       "      <th>Colour</th>\n",
       "      <th>Kilometer</th>\n",
       "      <th>BodyStyle</th>\n",
       "      <th>TransmissionType</th>\n",
       "      <th>CngKit</th>\n",
       "      <th>Owner</th>\n",
       "      <th>DealerState</th>\n",
       "      <th>City</th>\n",
       "      <th>Warranty</th>\n",
       "      <th>Car Age</th>\n",
       "      <th>QualityScore</th>\n",
       "      <th>Price</th>\n",
       "    </tr>\n",
       "  </thead>\n",
       "  <tbody>\n",
       "    <tr>\n",
       "      <th>0</th>\n",
       "      <td>MARUTI SUZUKI</td>\n",
       "      <td>CELERIO(2017-2019)</td>\n",
       "      <td>PETROL</td>\n",
       "      <td>Silver</td>\n",
       "      <td>33197</td>\n",
       "      <td>HATCHBACK</td>\n",
       "      <td>NaN</td>\n",
       "      <td>0</td>\n",
       "      <td>1st Owner</td>\n",
       "      <td>Karnataka</td>\n",
       "      <td>Bangalore</td>\n",
       "      <td>1</td>\n",
       "      <td>7</td>\n",
       "      <td>7.8</td>\n",
       "      <td>5.75 Lakhs</td>\n",
       "    </tr>\n",
       "    <tr>\n",
       "      <th>1</th>\n",
       "      <td>MARUTI SUZUKI</td>\n",
       "      <td>ALTO</td>\n",
       "      <td>PETROL</td>\n",
       "      <td>Red</td>\n",
       "      <td>10322</td>\n",
       "      <td>HATCHBACK</td>\n",
       "      <td>Manual</td>\n",
       "      <td>1</td>\n",
       "      <td>1st Owner</td>\n",
       "      <td>Karnataka</td>\n",
       "      <td>Bangalore</td>\n",
       "      <td>1</td>\n",
       "      <td>4</td>\n",
       "      <td>8.3</td>\n",
       "      <td>4.35 Lakhs</td>\n",
       "    </tr>\n",
       "    <tr>\n",
       "      <th>2</th>\n",
       "      <td>HYUNDAI</td>\n",
       "      <td>GRAND I10</td>\n",
       "      <td>PETROL</td>\n",
       "      <td>Grey</td>\n",
       "      <td>37889</td>\n",
       "      <td>HATCHBACK</td>\n",
       "      <td>Manual</td>\n",
       "      <td>0</td>\n",
       "      <td>1st Owner</td>\n",
       "      <td>Karnataka</td>\n",
       "      <td>Bangalore</td>\n",
       "      <td>1</td>\n",
       "      <td>10</td>\n",
       "      <td>7.9</td>\n",
       "      <td>4.7 Lakhs</td>\n",
       "    </tr>\n",
       "    <tr>\n",
       "      <th>3</th>\n",
       "      <td>TATA</td>\n",
       "      <td>NEXON</td>\n",
       "      <td>PETROL</td>\n",
       "      <td>A Blue</td>\n",
       "      <td>13106</td>\n",
       "      <td>HATCHBACK</td>\n",
       "      <td>NaN</td>\n",
       "      <td>1</td>\n",
       "      <td>1st Owner</td>\n",
       "      <td>Karnataka</td>\n",
       "      <td>Bangalore</td>\n",
       "      <td>1</td>\n",
       "      <td>5</td>\n",
       "      <td>8.1</td>\n",
       "      <td>9.9 Lakhs</td>\n",
       "    </tr>\n",
       "    <tr>\n",
       "      <th>4</th>\n",
       "      <td>FORD</td>\n",
       "      <td>FIGO</td>\n",
       "      <td>DIESEL</td>\n",
       "      <td>Silver</td>\n",
       "      <td>104614</td>\n",
       "      <td>HATCHBACK</td>\n",
       "      <td>Manual</td>\n",
       "      <td>0</td>\n",
       "      <td>2nd Owner</td>\n",
       "      <td>Karnataka</td>\n",
       "      <td>Bangalore</td>\n",
       "      <td>0</td>\n",
       "      <td>15</td>\n",
       "      <td>7.5</td>\n",
       "      <td>2.7 Lakhs</td>\n",
       "    </tr>\n",
       "  </tbody>\n",
       "</table>\n",
       "</div>"
      ],
      "text/plain": [
       "         Company               Model FuelType  Colour  Kilometer  BodyStyle  \\\n",
       "0  MARUTI SUZUKI  CELERIO(2017-2019)   PETROL  Silver      33197  HATCHBACK   \n",
       "1  MARUTI SUZUKI                ALTO   PETROL     Red      10322  HATCHBACK   \n",
       "2        HYUNDAI           GRAND I10   PETROL    Grey      37889  HATCHBACK   \n",
       "3           TATA               NEXON   PETROL  A Blue      13106  HATCHBACK   \n",
       "4           FORD                FIGO   DIESEL  Silver     104614  HATCHBACK   \n",
       "\n",
       "  TransmissionType CngKit      Owner DealerState       City  Warranty  \\\n",
       "0              NaN      0  1st Owner   Karnataka  Bangalore         1   \n",
       "1           Manual      1  1st Owner   Karnataka  Bangalore         1   \n",
       "2           Manual      0  1st Owner   Karnataka  Bangalore         1   \n",
       "3              NaN      1  1st Owner   Karnataka  Bangalore         1   \n",
       "4           Manual      0  2nd Owner   Karnataka  Bangalore         0   \n",
       "\n",
       "   Car Age  QualityScore       Price  \n",
       "0        7           7.8  5.75 Lakhs  \n",
       "1        4           8.3  4.35 Lakhs  \n",
       "2       10           7.9   4.7 Lakhs  \n",
       "3        5           8.1   9.9 Lakhs  \n",
       "4       15           7.5   2.7 Lakhs  "
      ]
     },
     "execution_count": 97,
     "metadata": {},
     "output_type": "execute_result"
    }
   ],
   "source": [
    "import pandas as pd\n",
    "df=pd.read_csv(\"Updated_dataset.csv\")\n",
    "df1=pd.read_csv(\"Updated_dataset.csv\")\n",
    "df.head()"
   ]
  },
  {
   "cell_type": "markdown",
   "id": "3c53a6b3",
   "metadata": {},
   "source": [
    "**Clean all data....**"
   ]
  },
  {
   "cell_type": "code",
   "execution_count": 2,
   "id": "de9c973c",
   "metadata": {},
   "outputs": [
    {
     "data": {
      "text/plain": [
       "0"
      ]
     },
     "execution_count": 2,
     "metadata": {},
     "output_type": "execute_result"
    }
   ],
   "source": [
    "df[\"Model\"].isnull().sum()"
   ]
  },
  {
   "cell_type": "code",
   "execution_count": 6,
   "id": "3ecb2efc",
   "metadata": {},
   "outputs": [
    {
     "data": {
      "text/plain": [
       "{'3SERIES',\n",
       " '5SERIES',\n",
       " 'A3',\n",
       " 'A4',\n",
       " 'A6',\n",
       " 'ACCENT',\n",
       " 'ACCORD',\n",
       " 'ALCAZAR',\n",
       " 'ALTO',\n",
       " 'ALTO800',\n",
       " 'ALTOK10',\n",
       " 'ALTROZ',\n",
       " 'AMAZE',\n",
       " 'AMEO',\n",
       " 'ASPIRE',\n",
       " 'ASTAR',\n",
       " 'ASTOR',\n",
       " 'AURA',\n",
       " 'BALENO',\n",
       " 'BOLERO',\n",
       " 'BRIO',\n",
       " 'CAMRY',\n",
       " 'CAPTUR',\n",
       " 'CARENS',\n",
       " 'CCLASS',\n",
       " 'CELERIO',\n",
       " 'CELERIOX',\n",
       " 'CIAZ',\n",
       " 'CITY',\n",
       " 'CITY5THGEN',\n",
       " 'CITYZX',\n",
       " 'CLACLASS',\n",
       " 'COMPASS',\n",
       " 'COROLLAALTIS',\n",
       " 'CRETA',\n",
       " 'CRV',\n",
       " 'DUSTER',\n",
       " 'DZIRE',\n",
       " 'E-CLASS',\n",
       " 'ECLASS',\n",
       " 'ECOSPORT',\n",
       " 'EECO',\n",
       " 'ELANTRA',\n",
       " 'ELITEI20',\n",
       " 'ENDEAVOUR',\n",
       " 'EON',\n",
       " 'ERTIGA',\n",
       " 'ETIOS',\n",
       " 'ETIOSCROSS',\n",
       " 'FIESTA',\n",
       " 'FIGO',\n",
       " 'FIGOASPIRE',\n",
       " 'FORTUNER',\n",
       " 'GLANZA',\n",
       " 'GO',\n",
       " 'GRANDI10',\n",
       " 'GRANDI10NIOS',\n",
       " 'GRANDPUNTO',\n",
       " 'HARRIER',\n",
       " 'HECTOR',\n",
       " 'HECTORPLUS',\n",
       " 'HEXA',\n",
       " 'I10',\n",
       " 'I20',\n",
       " 'I20ACTIVE',\n",
       " 'IGNIS',\n",
       " 'INNOVA',\n",
       " 'INNOVACRYSTA',\n",
       " 'JAZZ',\n",
       " 'KICKS',\n",
       " 'KIGER',\n",
       " 'KODIAQ',\n",
       " 'KUSHAQ',\n",
       " 'KUV100',\n",
       " 'KWID',\n",
       " 'MAGNITE',\n",
       " 'MANZA',\n",
       " 'MARAZZO',\n",
       " 'MICRA',\n",
       " 'MICRAACTIVE',\n",
       " 'MOBILIO',\n",
       " 'NEWELANTRA',\n",
       " 'NEXON',\n",
       " 'OCTAVIA',\n",
       " 'PAJEROSPORT',\n",
       " 'PLATINUMETIOS',\n",
       " 'POLO',\n",
       " 'Q3',\n",
       " 'Q32.0',\n",
       " 'RAPID',\n",
       " 'RITZ',\n",
       " 'SAFARI',\n",
       " 'SAILUVA',\n",
       " 'SANTRO',\n",
       " 'SANTROXING',\n",
       " 'SCORPIO',\n",
       " 'SCROSS',\n",
       " 'SELTOS',\n",
       " 'SONET',\n",
       " 'SPARK',\n",
       " 'SPRESSO',\n",
       " 'SUNNY',\n",
       " 'SUPERB',\n",
       " 'SWIFT',\n",
       " 'SWIFTDZIRE',\n",
       " 'TAIGUN',\n",
       " 'TERRANO',\n",
       " 'THAR',\n",
       " 'TIAGO',\n",
       " 'TIGOR',\n",
       " 'TIGUAN',\n",
       " 'TRIBER',\n",
       " 'TUCSON',\n",
       " 'TUV300',\n",
       " 'URBANCRUISERHYRYDER',\n",
       " 'V40',\n",
       " 'VCROSS',\n",
       " 'VENTO',\n",
       " 'VENUE',\n",
       " 'VERITO',\n",
       " 'VERNA',\n",
       " 'VIRTUS',\n",
       " 'VITARABREZZA',\n",
       " 'WAGONR',\n",
       " 'WAGONR1.0',\n",
       " 'WR-V',\n",
       " 'WRV',\n",
       " 'X1',\n",
       " 'XC60',\n",
       " 'XCENT',\n",
       " 'XL6',\n",
       " 'XUV300',\n",
       " 'XUV500',\n",
       " 'XUV700',\n",
       " 'XYLO',\n",
       " 'ZENESTILO',\n",
       " 'ZEST'}"
      ]
     },
     "execution_count": 6,
     "metadata": {},
     "output_type": "execute_result"
    }
   ],
   "source": [
    "set(df['Model'])"
   ]
  },
  {
   "cell_type": "code",
   "execution_count": 5,
   "id": "63cba7e9",
   "metadata": {},
   "outputs": [],
   "source": [
    "import re\n",
    "def clean(value):\n",
    "    value=value.upper().replace(\" \",\"\")\n",
    "    value=re.sub(r'\\(.*?\\)', '',value)\n",
    "    return value\n",
    "df[\"Model\"]=df[\"Model\"].apply(clean)\n",
    "    "
   ]
  },
  {
   "cell_type": "code",
   "execution_count": null,
   "id": "31263c73",
   "metadata": {},
   "outputs": [
    {
     "data": {
      "text/plain": [
       "{'3SERIES',\n",
       " '5SERIES',\n",
       " 'A3',\n",
       " 'A4',\n",
       " 'A6',\n",
       " 'ACCENT',\n",
       " 'ACCORD',\n",
       " 'ALCAZAR',\n",
       " 'ALTO800',\n",
       " 'ALTOK10',\n",
       " 'ALTROZ',\n",
       " 'AMAZE',\n",
       " 'AMEO',\n",
       " 'ASPIRE',\n",
       " 'ASTARE',\n",
       " 'ASTOR',\n",
       " 'AURA',\n",
       " 'BALENO',\n",
       " 'BOLERO',\n",
       " 'BRIO',\n",
       " 'CAMRY',\n",
       " 'CAPTUR',\n",
       " 'CARENS',\n",
       " 'CCLASS',\n",
       " 'CELERIO',\n",
       " 'CELERIOX',\n",
       " 'CIAZ',\n",
       " 'CITY',\n",
       " 'CITY5THGEN',\n",
       " 'CITYZX',\n",
       " 'CLACLASS',\n",
       " 'COMPASS',\n",
       " 'COROLLAALTIS',\n",
       " 'CRETA',\n",
       " 'CRV',\n",
       " 'DUSTER',\n",
       " 'DZIRE',\n",
       " 'E-CLASS',\n",
       " 'ECLASS',\n",
       " 'ECOSPORT',\n",
       " 'EECO',\n",
       " 'ELANTRA',\n",
       " 'ELITEI20',\n",
       " 'ENDEAVOUR',\n",
       " 'EON',\n",
       " 'ERTIGA',\n",
       " 'ETIOS',\n",
       " 'ETIOSCROSS',\n",
       " 'FIESTA',\n",
       " 'FIGO',\n",
       " 'FIGOASPIRE',\n",
       " 'FORTUNER',\n",
       " 'GLANZA',\n",
       " 'GO',\n",
       " 'GRANDI10',\n",
       " 'GRANDI10NIOS',\n",
       " 'GRANDPUNTO',\n",
       " 'HARRIER',\n",
       " 'HECTOR',\n",
       " 'HECTORPLUS',\n",
       " 'HEXA',\n",
       " 'I10',\n",
       " 'I20',\n",
       " 'I20ACTIVE',\n",
       " 'IGNIS',\n",
       " 'INNOVA',\n",
       " 'INNOVACRYSTA',\n",
       " 'JAZZ',\n",
       " 'KICKS',\n",
       " 'KIGER',\n",
       " 'KODIAQ',\n",
       " 'KUSHAQ',\n",
       " 'KUV100',\n",
       " 'KWID',\n",
       " 'MAGNITE',\n",
       " 'MANZA',\n",
       " 'MARAZZO',\n",
       " 'MICRA',\n",
       " 'MICRAACTIVE',\n",
       " 'MOBILIO',\n",
       " 'NEWELANTRA',\n",
       " 'NEXON',\n",
       " 'OCTAVIA',\n",
       " 'PAJEROSPORT',\n",
       " 'PLATINUMETIOS',\n",
       " 'POLO',\n",
       " 'Q3',\n",
       " 'Q32.0',\n",
       " 'RAPID',\n",
       " 'RITZ',\n",
       " 'SAFARI',\n",
       " 'SAILUVA',\n",
       " 'SANTRO',\n",
       " 'SANTROXING',\n",
       " 'SCORPIO',\n",
       " 'SCROSS',\n",
       " 'SELTOS',\n",
       " 'SONET',\n",
       " 'SPARK',\n",
       " 'SPRESSO',\n",
       " 'SUNNY',\n",
       " 'SUPERB',\n",
       " 'SWIFT',\n",
       " 'SWIFTDZIRE',\n",
       " 'TAIGUN',\n",
       " 'TERRANO',\n",
       " 'THAR',\n",
       " 'TIAGO',\n",
       " 'TIGOR',\n",
       " 'TIGUAN',\n",
       " 'TRIBER',\n",
       " 'TUCSON',\n",
       " 'TUV300',\n",
       " 'URBANCRUISERHYRYDER',\n",
       " 'V40',\n",
       " 'VCROSS',\n",
       " 'VENTO',\n",
       " 'VENUE',\n",
       " 'VERITO',\n",
       " 'VERNA',\n",
       " 'VIRTUS',\n",
       " 'VITARABREZZA',\n",
       " 'WAGONR',\n",
       " 'WAGONR1.0',\n",
       " 'WRV',\n",
       " 'X1',\n",
       " 'XC60',\n",
       " 'XCENT',\n",
       " 'XL6',\n",
       " 'XUV300',\n",
       " 'XUV500',\n",
       " 'XUV700',\n",
       " 'XYLO',\n",
       " 'ZENESTILO',\n",
       " 'ZEST'}"
      ]
     },
     "execution_count": 11,
     "metadata": {},
     "output_type": "execute_result"
    }
   ],
   "source": []
  },
  {
   "cell_type": "code",
   "execution_count": 12,
   "id": "42d0286e",
   "metadata": {},
   "outputs": [
    {
     "data": {
      "text/html": [
       "<div>\n",
       "<style scoped>\n",
       "    .dataframe tbody tr th:only-of-type {\n",
       "        vertical-align: middle;\n",
       "    }\n",
       "\n",
       "    .dataframe tbody tr th {\n",
       "        vertical-align: top;\n",
       "    }\n",
       "\n",
       "    .dataframe thead th {\n",
       "        text-align: right;\n",
       "    }\n",
       "</style>\n",
       "<table border=\"1\" class=\"dataframe\">\n",
       "  <thead>\n",
       "    <tr style=\"text-align: right;\">\n",
       "      <th></th>\n",
       "      <th>Company</th>\n",
       "      <th>Model</th>\n",
       "      <th>FuelType</th>\n",
       "      <th>Colour</th>\n",
       "      <th>Kilometer</th>\n",
       "      <th>BodyStyle</th>\n",
       "      <th>TransmissionType</th>\n",
       "      <th>CngKit</th>\n",
       "      <th>Owner</th>\n",
       "      <th>DealerState</th>\n",
       "      <th>City</th>\n",
       "      <th>Warranty</th>\n",
       "      <th>Car Age</th>\n",
       "      <th>QualityScore</th>\n",
       "      <th>Price</th>\n",
       "    </tr>\n",
       "  </thead>\n",
       "  <tbody>\n",
       "    <tr>\n",
       "      <th>0</th>\n",
       "      <td>MARUTI SUZUKI</td>\n",
       "      <td>CELERIO</td>\n",
       "      <td>PETROL</td>\n",
       "      <td>Silver</td>\n",
       "      <td>33197</td>\n",
       "      <td>HATCHBACK</td>\n",
       "      <td>NaN</td>\n",
       "      <td>0</td>\n",
       "      <td>1st Owner</td>\n",
       "      <td>Karnataka</td>\n",
       "      <td>Bangalore</td>\n",
       "      <td>1</td>\n",
       "      <td>7</td>\n",
       "      <td>7.8</td>\n",
       "      <td>5.75 Lakhs</td>\n",
       "    </tr>\n",
       "    <tr>\n",
       "      <th>1</th>\n",
       "      <td>MARUTI SUZUKI</td>\n",
       "      <td>ALTO800</td>\n",
       "      <td>PETROL</td>\n",
       "      <td>Red</td>\n",
       "      <td>10322</td>\n",
       "      <td>HATCHBACK</td>\n",
       "      <td>Manual</td>\n",
       "      <td>1</td>\n",
       "      <td>1st Owner</td>\n",
       "      <td>Karnataka</td>\n",
       "      <td>Bangalore</td>\n",
       "      <td>1</td>\n",
       "      <td>4</td>\n",
       "      <td>8.3</td>\n",
       "      <td>4.35 Lakhs</td>\n",
       "    </tr>\n",
       "    <tr>\n",
       "      <th>2</th>\n",
       "      <td>HYUNDAI</td>\n",
       "      <td>GRANDI10</td>\n",
       "      <td>PETROL</td>\n",
       "      <td>Grey</td>\n",
       "      <td>37889</td>\n",
       "      <td>HATCHBACK</td>\n",
       "      <td>Manual</td>\n",
       "      <td>0</td>\n",
       "      <td>1st Owner</td>\n",
       "      <td>Karnataka</td>\n",
       "      <td>Bangalore</td>\n",
       "      <td>1</td>\n",
       "      <td>10</td>\n",
       "      <td>7.9</td>\n",
       "      <td>4.7 Lakhs</td>\n",
       "    </tr>\n",
       "    <tr>\n",
       "      <th>3</th>\n",
       "      <td>TATA</td>\n",
       "      <td>NEXON</td>\n",
       "      <td>PETROL</td>\n",
       "      <td>A Blue</td>\n",
       "      <td>13106</td>\n",
       "      <td>HATCHBACK</td>\n",
       "      <td>NaN</td>\n",
       "      <td>1</td>\n",
       "      <td>1st Owner</td>\n",
       "      <td>Karnataka</td>\n",
       "      <td>Bangalore</td>\n",
       "      <td>1</td>\n",
       "      <td>5</td>\n",
       "      <td>8.1</td>\n",
       "      <td>9.9 Lakhs</td>\n",
       "    </tr>\n",
       "    <tr>\n",
       "      <th>4</th>\n",
       "      <td>FORD</td>\n",
       "      <td>FIGO</td>\n",
       "      <td>DIESEL</td>\n",
       "      <td>Silver</td>\n",
       "      <td>104614</td>\n",
       "      <td>HATCHBACK</td>\n",
       "      <td>Manual</td>\n",
       "      <td>0</td>\n",
       "      <td>2nd Owner</td>\n",
       "      <td>Karnataka</td>\n",
       "      <td>Bangalore</td>\n",
       "      <td>0</td>\n",
       "      <td>15</td>\n",
       "      <td>7.5</td>\n",
       "      <td>2.7 Lakhs</td>\n",
       "    </tr>\n",
       "  </tbody>\n",
       "</table>\n",
       "</div>"
      ],
      "text/plain": [
       "         Company     Model FuelType  Colour  Kilometer  BodyStyle  \\\n",
       "0  MARUTI SUZUKI   CELERIO   PETROL  Silver      33197  HATCHBACK   \n",
       "1  MARUTI SUZUKI   ALTO800   PETROL     Red      10322  HATCHBACK   \n",
       "2        HYUNDAI  GRANDI10   PETROL    Grey      37889  HATCHBACK   \n",
       "3           TATA     NEXON   PETROL  A Blue      13106  HATCHBACK   \n",
       "4           FORD      FIGO   DIESEL  Silver     104614  HATCHBACK   \n",
       "\n",
       "  TransmissionType CngKit      Owner DealerState       City  Warranty  \\\n",
       "0              NaN      0  1st Owner   Karnataka  Bangalore         1   \n",
       "1           Manual      1  1st Owner   Karnataka  Bangalore         1   \n",
       "2           Manual      0  1st Owner   Karnataka  Bangalore         1   \n",
       "3              NaN      1  1st Owner   Karnataka  Bangalore         1   \n",
       "4           Manual      0  2nd Owner   Karnataka  Bangalore         0   \n",
       "\n",
       "   Car Age  QualityScore       Price  \n",
       "0        7           7.8  5.75 Lakhs  \n",
       "1        4           8.3  4.35 Lakhs  \n",
       "2       10           7.9   4.7 Lakhs  \n",
       "3        5           8.1   9.9 Lakhs  \n",
       "4       15           7.5   2.7 Lakhs  "
      ]
     },
     "execution_count": 12,
     "metadata": {},
     "output_type": "execute_result"
    }
   ],
   "source": [
    "df['Model'] = df['Model'].replace('WR-V', 'WRV')\n",
    "df.head()"
   ]
  },
  {
   "cell_type": "code",
   "execution_count": 60,
   "id": "c7bc2ff7",
   "metadata": {},
   "outputs": [
    {
     "data": {
      "text/plain": [
       "0"
      ]
     },
     "execution_count": 60,
     "metadata": {},
     "output_type": "execute_result"
    }
   ],
   "source": [
    "df[\"QualityScore\"].isnull().sum()"
   ]
  },
  {
   "cell_type": "code",
   "execution_count": 136,
   "id": "338b4323",
   "metadata": {},
   "outputs": [
    {
     "data": {
      "text/plain": [
       "{'0', '1', 'After1Market', 'Company1Fitted'}"
      ]
     },
     "execution_count": 136,
     "metadata": {},
     "output_type": "execute_result"
    }
   ],
   "source": [
    "set(df['CngKit'])"
   ]
  },
  {
   "cell_type": "code",
   "execution_count": 49,
   "id": "beaa5a25",
   "metadata": {},
   "outputs": [
    {
     "data": {
      "text/plain": [
       "CngKit\n",
       "1    600\n",
       "0    400\n",
       "Name: count, dtype: int64"
      ]
     },
     "execution_count": 49,
     "metadata": {},
     "output_type": "execute_result"
    }
   ],
   "source": [
    "# df['FuelType'].fillna(df['FuelType'].mode()[0], inplace=True)\n",
    "df['CngKit'].value_counts()"
   ]
  },
  {
   "cell_type": "code",
   "execution_count": 111,
   "id": "71ad2c6b",
   "metadata": {},
   "outputs": [],
   "source": [
    "df['Price'] = df['Price'].str.replace('95,000','0.95', case=False)\n"
   ]
  },
  {
   "cell_type": "markdown",
   "id": "9200516b",
   "metadata": {},
   "source": [
    "**Find km Outlier & Handle**"
   ]
  },
  {
   "cell_type": "code",
   "execution_count": 101,
   "id": "bf3d4c38",
   "metadata": {},
   "outputs": [
    {
     "data": {
      "text/plain": [
       "<Axes: ylabel='Kilometer'>"
      ]
     },
     "execution_count": 101,
     "metadata": {},
     "output_type": "execute_result"
    },
    {
     "data": {
      "image/png": "[encoded data removed]",
      "text/plain": [
       "<Figure size 1200x600 with 1 Axes>"
      ]
     },
     "metadata": {},
     "output_type": "display_data"
    }
   ],
   "source": [
    "import seaborn as sns\n",
    "import matplotlib.pyplot as plt\n",
    "plt.figure(figsize=(12,6))\n",
    "sns.boxplot(data=df[\"Kilometer\"])\n"
   ]
  },
  {
   "cell_type": "code",
   "execution_count": 100,
   "id": "81c22358",
   "metadata": {},
   "outputs": [
    {
     "data": {
      "text/plain": [
       "0.5805743017466583"
      ]
     },
     "execution_count": 100,
     "metadata": {},
     "output_type": "execute_result"
    }
   ],
   "source": [
    "df[\"Kilometer\"].skew()"
   ]
  },
  {
   "cell_type": "code",
   "execution_count": 99,
   "id": "f40b1903",
   "metadata": {},
   "outputs": [
    {
     "data": {
      "text/plain": [
       "<Axes: xlabel='Kilometer', ylabel='Count'>"
      ]
     },
     "execution_count": 99,
     "metadata": {},
     "output_type": "execute_result"
    },
    {
     "data": {
      "image/png": "[encoded data removed]",
      "text/plain": [
       "<Figure size 1000x500 with 1 Axes>"
      ]
     },
     "metadata": {},
     "output_type": "display_data"
    }
   ],
   "source": [
    "plt.figure(figsize=(10,5))\n",
    "sns.histplot(df[\"Kilometer\"],kde=True)\n"
   ]
  },
  {
   "cell_type": "code",
   "execution_count": 98,
   "id": "509edc74",
   "metadata": {},
   "outputs": [],
   "source": [
    "lower=df1[\"Kilometer\"].quantile(0.01)\n",
    "upper=df1[\"Kilometer\"].quantile(0.99)\n",
    "df[\"Kilometer\"]=df1[\"Kilometer\"].clip(lower,upper)"
   ]
  },
  {
   "cell_type": "markdown",
   "id": "7771b208",
   "metadata": {},
   "source": [
    "outliers for QualityScore"
   ]
  },
  {
   "cell_type": "code",
   "execution_count": 84,
   "id": "e7594e35",
   "metadata": {},
   "outputs": [
    {
     "data": {
      "text/html": [
       "<div>\n",
       "<style scoped>\n",
       "    .dataframe tbody tr th:only-of-type {\n",
       "        vertical-align: middle;\n",
       "    }\n",
       "\n",
       "    .dataframe tbody tr th {\n",
       "        vertical-align: top;\n",
       "    }\n",
       "\n",
       "    .dataframe thead th {\n",
       "        text-align: right;\n",
       "    }\n",
       "</style>\n",
       "<table border=\"1\" class=\"dataframe\">\n",
       "  <thead>\n",
       "    <tr style=\"text-align: right;\">\n",
       "      <th></th>\n",
       "      <th>Company</th>\n",
       "      <th>Model</th>\n",
       "      <th>FuelType</th>\n",
       "      <th>Colour</th>\n",
       "      <th>Kilometer</th>\n",
       "      <th>BodyStyle</th>\n",
       "      <th>TransmissionType</th>\n",
       "      <th>CngKit</th>\n",
       "      <th>Owner</th>\n",
       "      <th>DealerState</th>\n",
       "      <th>City</th>\n",
       "      <th>Warranty</th>\n",
       "      <th>Car Age</th>\n",
       "      <th>QualityScore</th>\n",
       "      <th>Price</th>\n",
       "    </tr>\n",
       "  </thead>\n",
       "  <tbody>\n",
       "    <tr>\n",
       "      <th>0</th>\n",
       "      <td>MARUTI SUZUKI</td>\n",
       "      <td>CELERIO</td>\n",
       "      <td>PETROL</td>\n",
       "      <td>Silver</td>\n",
       "      <td>33197.0</td>\n",
       "      <td>HATCHBACK</td>\n",
       "      <td>NaN</td>\n",
       "      <td>0</td>\n",
       "      <td>1st Owner</td>\n",
       "      <td>Karnataka</td>\n",
       "      <td>Bangalore</td>\n",
       "      <td>1</td>\n",
       "      <td>7</td>\n",
       "      <td>7.8</td>\n",
       "      <td>5.75</td>\n",
       "    </tr>\n",
       "    <tr>\n",
       "      <th>1</th>\n",
       "      <td>MARUTI SUZUKI</td>\n",
       "      <td>ALTO800</td>\n",
       "      <td>PETROL</td>\n",
       "      <td>Red</td>\n",
       "      <td>10322.0</td>\n",
       "      <td>HATCHBACK</td>\n",
       "      <td>Manual</td>\n",
       "      <td>1</td>\n",
       "      <td>1st Owner</td>\n",
       "      <td>Karnataka</td>\n",
       "      <td>Bangalore</td>\n",
       "      <td>1</td>\n",
       "      <td>4</td>\n",
       "      <td>8.3</td>\n",
       "      <td>4.35</td>\n",
       "    </tr>\n",
       "    <tr>\n",
       "      <th>2</th>\n",
       "      <td>HYUNDAI</td>\n",
       "      <td>GRANDI10</td>\n",
       "      <td>PETROL</td>\n",
       "      <td>Grey</td>\n",
       "      <td>37889.0</td>\n",
       "      <td>HATCHBACK</td>\n",
       "      <td>Manual</td>\n",
       "      <td>0</td>\n",
       "      <td>1st Owner</td>\n",
       "      <td>Karnataka</td>\n",
       "      <td>Bangalore</td>\n",
       "      <td>1</td>\n",
       "      <td>10</td>\n",
       "      <td>7.9</td>\n",
       "      <td>4.7</td>\n",
       "    </tr>\n",
       "    <tr>\n",
       "      <th>3</th>\n",
       "      <td>TATA</td>\n",
       "      <td>NEXON</td>\n",
       "      <td>PETROL</td>\n",
       "      <td>A Blue</td>\n",
       "      <td>13106.0</td>\n",
       "      <td>HATCHBACK</td>\n",
       "      <td>NaN</td>\n",
       "      <td>1</td>\n",
       "      <td>1st Owner</td>\n",
       "      <td>Karnataka</td>\n",
       "      <td>Bangalore</td>\n",
       "      <td>1</td>\n",
       "      <td>5</td>\n",
       "      <td>8.1</td>\n",
       "      <td>9.9</td>\n",
       "    </tr>\n",
       "    <tr>\n",
       "      <th>4</th>\n",
       "      <td>FORD</td>\n",
       "      <td>FIGO</td>\n",
       "      <td>DIESEL</td>\n",
       "      <td>Silver</td>\n",
       "      <td>104614.0</td>\n",
       "      <td>HATCHBACK</td>\n",
       "      <td>Manual</td>\n",
       "      <td>0</td>\n",
       "      <td>2nd Owner</td>\n",
       "      <td>Karnataka</td>\n",
       "      <td>Bangalore</td>\n",
       "      <td>0</td>\n",
       "      <td>15</td>\n",
       "      <td>7.5</td>\n",
       "      <td>2.7</td>\n",
       "    </tr>\n",
       "  </tbody>\n",
       "</table>\n",
       "</div>"
      ],
      "text/plain": [
       "         Company     Model FuelType  Colour  Kilometer  BodyStyle  \\\n",
       "0  MARUTI SUZUKI   CELERIO   PETROL  Silver    33197.0  HATCHBACK   \n",
       "1  MARUTI SUZUKI   ALTO800   PETROL     Red    10322.0  HATCHBACK   \n",
       "2        HYUNDAI  GRANDI10   PETROL    Grey    37889.0  HATCHBACK   \n",
       "3           TATA     NEXON   PETROL  A Blue    13106.0  HATCHBACK   \n",
       "4           FORD      FIGO   DIESEL  Silver   104614.0  HATCHBACK   \n",
       "\n",
       "  TransmissionType  CngKit      Owner DealerState       City  Warranty  \\\n",
       "0              NaN       0  1st Owner   Karnataka  Bangalore         1   \n",
       "1           Manual       1  1st Owner   Karnataka  Bangalore         1   \n",
       "2           Manual       0  1st Owner   Karnataka  Bangalore         1   \n",
       "3              NaN       1  1st Owner   Karnataka  Bangalore         1   \n",
       "4           Manual       0  2nd Owner   Karnataka  Bangalore         0   \n",
       "\n",
       "   Car Age  QualityScore Price  \n",
       "0        7           7.8  5.75  \n",
       "1        4           8.3  4.35  \n",
       "2       10           7.9   4.7  \n",
       "3        5           8.1   9.9  \n",
       "4       15           7.5   2.7  "
      ]
     },
     "execution_count": 84,
     "metadata": {},
     "output_type": "execute_result"
    }
   ],
   "source": [
    "df.head()"
   ]
  },
  {
   "cell_type": "code",
   "execution_count": 105,
   "id": "9d077e36",
   "metadata": {},
   "outputs": [
    {
     "data": {
      "text/plain": [
       "<Axes: ylabel='QualityScore'>"
      ]
     },
     "execution_count": 105,
     "metadata": {},
     "output_type": "execute_result"
    },
    {
     "data": {
      "image/png": "[encoded data removed]",
      "text/plain": [
       "<Figure size 1200x500 with 1 Axes>"
      ]
     },
     "metadata": {},
     "output_type": "display_data"
    }
   ],
   "source": [
    "plt.figure(figsize=(12,5))\n",
    "sns.boxplot(data=df[\"QualityScore\"])\n"
   ]
  },
  {
   "cell_type": "code",
   "execution_count": 104,
   "id": "c8470f1f",
   "metadata": {},
   "outputs": [
    {
     "data": {
      "text/plain": [
       "-0.7174112926722825"
      ]
     },
     "execution_count": 104,
     "metadata": {},
     "output_type": "execute_result"
    }
   ],
   "source": [
    "df[\"QualityScore\"].skew()"
   ]
  },
  {
   "cell_type": "code",
   "execution_count": 103,
   "id": "77ddeb77",
   "metadata": {},
   "outputs": [
    {
     "data": {
      "text/plain": [
       "<Axes: xlabel='QualityScore', ylabel='Count'>"
      ]
     },
     "execution_count": 103,
     "metadata": {},
     "output_type": "execute_result"
    },
    {
     "data": {
      "image/png": "[encoded data removed]",
      "text/plain": [
       "<Figure size 800x400 with 1 Axes>"
      ]
     },
     "metadata": {},
     "output_type": "display_data"
    }
   ],
   "source": [
    "plt.figure(figsize=(8,4))\n",
    "sns.histplot(data=df[\"QualityScore\"],kde=True)\n"
   ]
  },
  {
   "cell_type": "code",
   "execution_count": 102,
   "id": "d9cb368f",
   "metadata": {},
   "outputs": [],
   "source": [
    "lower=df[\"QualityScore\"].quantile(0.01)\n",
    "upper=df[\"QualityScore\"].quantile(0.99)\n",
    "df[\"QualityScore\"]=df[\"QualityScore\"].clip(lower,upper)\n"
   ]
  },
  {
   "cell_type": "markdown",
   "id": "f723a61f",
   "metadata": {},
   "source": [
    "Outlier for price"
   ]
  },
  {
   "cell_type": "code",
   "execution_count": 112,
   "id": "8869be60",
   "metadata": {},
   "outputs": [
    {
     "data": {
      "text/html": [
       "<div>\n",
       "<style scoped>\n",
       "    .dataframe tbody tr th:only-of-type {\n",
       "        vertical-align: middle;\n",
       "    }\n",
       "\n",
       "    .dataframe tbody tr th {\n",
       "        vertical-align: top;\n",
       "    }\n",
       "\n",
       "    .dataframe thead th {\n",
       "        text-align: right;\n",
       "    }\n",
       "</style>\n",
       "<table border=\"1\" class=\"dataframe\">\n",
       "  <thead>\n",
       "    <tr style=\"text-align: right;\">\n",
       "      <th></th>\n",
       "      <th>Company</th>\n",
       "      <th>Model</th>\n",
       "      <th>FuelType</th>\n",
       "      <th>Colour</th>\n",
       "      <th>Kilometer</th>\n",
       "      <th>BodyStyle</th>\n",
       "      <th>TransmissionType</th>\n",
       "      <th>CngKit</th>\n",
       "      <th>Owner</th>\n",
       "      <th>DealerState</th>\n",
       "      <th>City</th>\n",
       "      <th>Warranty</th>\n",
       "      <th>Car Age</th>\n",
       "      <th>QualityScore</th>\n",
       "      <th>Price</th>\n",
       "    </tr>\n",
       "  </thead>\n",
       "  <tbody>\n",
       "    <tr>\n",
       "      <th>0</th>\n",
       "      <td>MARUTI SUZUKI</td>\n",
       "      <td>CELERIO(2017-2019)</td>\n",
       "      <td>PETROL</td>\n",
       "      <td>Silver</td>\n",
       "      <td>33197.0</td>\n",
       "      <td>HATCHBACK</td>\n",
       "      <td>NaN</td>\n",
       "      <td>0</td>\n",
       "      <td>1st Owner</td>\n",
       "      <td>Karnataka</td>\n",
       "      <td>Bangalore</td>\n",
       "      <td>1</td>\n",
       "      <td>7</td>\n",
       "      <td>7.8</td>\n",
       "      <td>5.75</td>\n",
       "    </tr>\n",
       "    <tr>\n",
       "      <th>1</th>\n",
       "      <td>MARUTI SUZUKI</td>\n",
       "      <td>ALTO</td>\n",
       "      <td>PETROL</td>\n",
       "      <td>Red</td>\n",
       "      <td>10322.0</td>\n",
       "      <td>HATCHBACK</td>\n",
       "      <td>Manual</td>\n",
       "      <td>1</td>\n",
       "      <td>1st Owner</td>\n",
       "      <td>Karnataka</td>\n",
       "      <td>Bangalore</td>\n",
       "      <td>1</td>\n",
       "      <td>4</td>\n",
       "      <td>8.3</td>\n",
       "      <td>4.35</td>\n",
       "    </tr>\n",
       "    <tr>\n",
       "      <th>2</th>\n",
       "      <td>HYUNDAI</td>\n",
       "      <td>GRAND I10</td>\n",
       "      <td>PETROL</td>\n",
       "      <td>Grey</td>\n",
       "      <td>37889.0</td>\n",
       "      <td>HATCHBACK</td>\n",
       "      <td>Manual</td>\n",
       "      <td>0</td>\n",
       "      <td>1st Owner</td>\n",
       "      <td>Karnataka</td>\n",
       "      <td>Bangalore</td>\n",
       "      <td>1</td>\n",
       "      <td>10</td>\n",
       "      <td>7.9</td>\n",
       "      <td>4.7</td>\n",
       "    </tr>\n",
       "    <tr>\n",
       "      <th>3</th>\n",
       "      <td>TATA</td>\n",
       "      <td>NEXON</td>\n",
       "      <td>PETROL</td>\n",
       "      <td>A Blue</td>\n",
       "      <td>13106.0</td>\n",
       "      <td>HATCHBACK</td>\n",
       "      <td>NaN</td>\n",
       "      <td>1</td>\n",
       "      <td>1st Owner</td>\n",
       "      <td>Karnataka</td>\n",
       "      <td>Bangalore</td>\n",
       "      <td>1</td>\n",
       "      <td>5</td>\n",
       "      <td>8.1</td>\n",
       "      <td>9.9</td>\n",
       "    </tr>\n",
       "    <tr>\n",
       "      <th>4</th>\n",
       "      <td>FORD</td>\n",
       "      <td>FIGO</td>\n",
       "      <td>DIESEL</td>\n",
       "      <td>Silver</td>\n",
       "      <td>104614.0</td>\n",
       "      <td>HATCHBACK</td>\n",
       "      <td>Manual</td>\n",
       "      <td>0</td>\n",
       "      <td>2nd Owner</td>\n",
       "      <td>Karnataka</td>\n",
       "      <td>Bangalore</td>\n",
       "      <td>0</td>\n",
       "      <td>15</td>\n",
       "      <td>7.5</td>\n",
       "      <td>2.7</td>\n",
       "    </tr>\n",
       "  </tbody>\n",
       "</table>\n",
       "</div>"
      ],
      "text/plain": [
       "         Company               Model FuelType  Colour  Kilometer  BodyStyle  \\\n",
       "0  MARUTI SUZUKI  CELERIO(2017-2019)   PETROL  Silver    33197.0  HATCHBACK   \n",
       "1  MARUTI SUZUKI                ALTO   PETROL     Red    10322.0  HATCHBACK   \n",
       "2        HYUNDAI           GRAND I10   PETROL    Grey    37889.0  HATCHBACK   \n",
       "3           TATA               NEXON   PETROL  A Blue    13106.0  HATCHBACK   \n",
       "4           FORD                FIGO   DIESEL  Silver   104614.0  HATCHBACK   \n",
       "\n",
       "  TransmissionType CngKit      Owner DealerState       City  Warranty  \\\n",
       "0              NaN      0  1st Owner   Karnataka  Bangalore         1   \n",
       "1           Manual      1  1st Owner   Karnataka  Bangalore         1   \n",
       "2           Manual      0  1st Owner   Karnataka  Bangalore         1   \n",
       "3              NaN      1  1st Owner   Karnataka  Bangalore         1   \n",
       "4           Manual      0  2nd Owner   Karnataka  Bangalore         0   \n",
       "\n",
       "   Car Age  QualityScore Price  \n",
       "0        7           7.8  5.75  \n",
       "1        4           8.3  4.35  \n",
       "2       10           7.9   4.7  \n",
       "3        5           8.1   9.9  \n",
       "4       15           7.5   2.7  "
      ]
     },
     "execution_count": 112,
     "metadata": {},
     "output_type": "execute_result"
    }
   ],
   "source": [
    "df.head()"
   ]
  },
  {
   "cell_type": "code",
   "execution_count": null,
   "id": "0b8d3004",
   "metadata": {},
   "outputs": [
    {
     "data": {
      "text/plain": [
       "1.64841647152419"
      ]
     },
     "execution_count": 124,
     "metadata": {},
     "output_type": "execute_result"
    }
   ],
   "source": [
    "df[\"Price\"].skew()"
   ]
  },
  {
   "cell_type": "code",
   "execution_count": 121,
   "id": "f2ed350b",
   "metadata": {},
   "outputs": [],
   "source": [
    "import numpy as np\n",
    "df['Price'] = df['Price'].astype(float)\n",
    "Q1 = df[\"Price\"].quantile(0.25)\n",
    "Q3= df[\"Price\"].quantile(0.75)\n",
    "IQZ=Q3-Q1\n",
    "lower=Q1-1.5*IQZ\n",
    "Upper=Q3+1.5*IQZ\n",
    "df[\"Price\"] = np.where(df[\"Price\"]>upper,upper,np.where(df[\"Price\"]<lower,lower,df[\"Price\"]))"
   ]
  },
  {
   "cell_type": "code",
   "execution_count": 128,
   "id": "570b7925",
   "metadata": {},
   "outputs": [
    {
     "data": {
      "text/plain": [
       "<Axes: ylabel='Price'>"
      ]
     },
     "execution_count": 128,
     "metadata": {},
     "output_type": "execute_result"
    },
    {
     "data": {
      "image/png": "[encoded data removed]",
      "text/plain": [
       "<Figure size 1200x500 with 1 Axes>"
      ]
     },
     "metadata": {},
     "output_type": "display_data"
    }
   ],
   "source": [
    "plt.figure(figsize=(12,5))\n",
    "sns.boxplot(data=np.log1p(df['Price']))"
   ]
  },
  {
   "cell_type": "code",
   "execution_count": 127,
   "id": "e1e583ab",
   "metadata": {},
   "outputs": [
    {
     "data": {
      "text/plain": [
       "<Axes: xlabel='Price', ylabel='Count'>"
      ]
     },
     "execution_count": 127,
     "metadata": {},
     "output_type": "execute_result"
    },
    {
     "data": {
      "image/png": "[encoded data removed]",
      "text/plain": [
       "<Figure size 800x400 with 1 Axes>"
      ]
     },
     "metadata": {},
     "output_type": "display_data"
    }
   ],
   "source": [
    "plt.figure(figsize=(8,4))\n",
    "sns.histplot(data=np.log1p(df['Price']),kde=True)"
   ]
  },
  {
   "cell_type": "code",
   "execution_count": 129,
   "id": "76d676a2",
   "metadata": {},
   "outputs": [
    {
     "data": {
      "text/plain": [
       "0.3995766579089874"
      ]
     },
     "execution_count": 129,
     "metadata": {},
     "output_type": "execute_result"
    }
   ],
   "source": [
    "np.log1p(df['Price']).skew()"
   ]
  },
  {
   "cell_type": "markdown",
   "id": "491e30b7",
   "metadata": {},
   "source": [
    "label encoding for catgorical fetures"
   ]
  },
  {
   "cell_type": "code",
   "execution_count": 130,
   "id": "138dcaec",
   "metadata": {},
   "outputs": [
    {
     "data": {
      "text/plain": [
       "Index(['Company', 'Model', 'FuelType', 'Colour', 'Kilometer', 'BodyStyle',\n",
       "       'TransmissionType', 'CngKit', 'Owner', 'DealerState', 'City',\n",
       "       'Warranty', 'Car Age', 'QualityScore', 'Price'],\n",
       "      dtype='object')"
      ]
     },
     "execution_count": 130,
     "metadata": {},
     "output_type": "execute_result"
    }
   ],
   "source": [
    "df.columns"
   ]
  },
  {
   "cell_type": "code",
   "execution_count": 150,
   "id": "83794955",
   "metadata": {},
   "outputs": [],
   "source": [
    "catagori=['Company', 'Model', 'FuelType', 'Colour','BodyStyle','Owner','CngKit', 'DealerState', 'City', ]\n",
    "neumaric=['Warranty', 'Car Age', 'QualityScore', 'Price','Kilometer','CngKit']\n",
    "from sklearn.preprocessing  import LabelEncoder\n",
    "for i in catagori:\n",
    "    le=LabelEncoder()\n",
    "    df[i]=le.fit_transform(df[i].astype(str))"
   ]
  },
  {
   "cell_type": "code",
   "execution_count": 151,
   "id": "82431041",
   "metadata": {},
   "outputs": [],
   "source": [
    "known=df[df[\"TransmissionType\"].notnull()]\n",
    "unknown=df[df[\"TransmissionType\"].isnull()]\n",
    "\n",
    "from sklearn.ensemble import RandomForestClassifier\n",
    "features = [col for col in df.columns if col != 'TransmissionType']\n",
    "x=known[features]\n",
    "y=known[\"TransmissionType\"]\n",
    "clf=RandomForestClassifier()\n",
    "clf.fit(x,y)\n",
    "\n",
    "df.loc[df['TransmissionType'].isnull(), 'TransmissionType'] = clf.predict(unknown[features])\n"
   ]
  },
  {
   "cell_type": "code",
   "execution_count": 154,
   "id": "e79b762f",
   "metadata": {},
   "outputs": [
    {
     "name": "stdout",
     "output_type": "stream",
     "text": [
      "TransmissionType\n",
      "2    862\n",
      "0    136\n",
      "1      2\n",
      "Name: count, dtype: int64\n"
     ]
    }
   ],
   "source": [
    "print(df['TransmissionType'].value_counts())\n",
    "# df[\"TransmissionType\"]=df1[\"TransmissionType\"]"
   ]
  },
  {
   "cell_type": "code",
   "execution_count": 153,
   "id": "b8c519aa",
   "metadata": {},
   "outputs": [],
   "source": [
    "df[\"TransmissionType\"]=le.fit_transform(df[\"TransmissionType\"].astype(str))"
   ]
  },
  {
   "cell_type": "markdown",
   "id": "2476a052",
   "metadata": {},
   "source": [
    "**Now datasate is fully ready to train a Model**"
   ]
  },
  {
   "cell_type": "code",
   "execution_count": 155,
   "id": "7c60fb2e",
   "metadata": {},
   "outputs": [],
   "source": [
    "from sklearn.model_selection import train_test_split\n",
    "x=df.drop(\"Price\",axis=1)\n",
    "y=df[\"Price\"]\n",
    "\n",
    "x_train,X_test,y_train,y_test=train_test_split(x,y)"
   ]
  },
  {
   "cell_type": "code",
   "execution_count": 171,
   "id": "0a2f28e1",
   "metadata": {},
   "outputs": [
    {
     "data": {
      "text/html": [
       "<style>#sk-container-id-6 {\n",
       "  /* Definition of color scheme common for light and dark mode */\n",
       "  --sklearn-color-text: black;\n",
       "  --sklearn-color-line: gray;\n",
       "  /* Definition of color scheme for unfitted estimators */\n",
       "  --sklearn-color-unfitted-level-0: #fff5e6;\n",
       "  --sklearn-color-unfitted-level-1: #f6e4d2;\n",
       "  --sklearn-color-unfitted-level-2: #ffe0b3;\n",
       "  --sklearn-color-unfitted-level-3: chocolate;\n",
       "  /* Definition of color scheme for fitted estimators */\n",
       "  --sklearn-color-fitted-level-0: #f0f8ff;\n",
       "  --sklearn-color-fitted-level-1: #d4ebff;\n",
       "  --sklearn-color-fitted-level-2: #b3dbfd;\n",
       "  --sklearn-color-fitted-level-3: cornflowerblue;\n",
       "\n",
       "  /* Specific color for light theme */\n",
       "  --sklearn-color-text-on-default-background: var(--sg-text-color, var(--theme-code-foreground, var(--jp-content-font-color1, black)));\n",
       "  --sklearn-color-background: var(--sg-background-color, var(--theme-background, var(--jp-layout-color0, white)));\n",
       "  --sklearn-color-border-box: var(--sg-text-color, var(--theme-code-foreground, var(--jp-content-font-color1, black)));\n",
       "  --sklearn-color-icon: #696969;\n",
       "\n",
       "  @media (prefers-color-scheme: dark) {\n",
       "    /* Redefinition of color scheme for dark theme */\n",
       "    --sklearn-color-text-on-default-background: var(--sg-text-color, var(--theme-code-foreground, var(--jp-content-font-color1, white)));\n",
       "    --sklearn-color-background: var(--sg-background-color, var(--theme-background, var(--jp-layout-color0, #111)));\n",
       "    --sklearn-color-border-box: var(--sg-text-color, var(--theme-code-foreground, var(--jp-content-font-color1, white)));\n",
       "    --sklearn-color-icon: #878787;\n",
       "  }\n",
       "}\n",
       "\n",
       "#sk-container-id-6 {\n",
       "  color: var(--sklearn-color-text);\n",
       "}\n",
       "\n",
       "#sk-container-id-6 pre {\n",
       "  padding: 0;\n",
       "}\n",
       "\n",
       "#sk-container-id-6 input.sk-hidden--visually {\n",
       "  border: 0;\n",
       "  clip: rect(1px 1px 1px 1px);\n",
       "  clip: rect(1px, 1px, 1px, 1px);\n",
       "  height: 1px;\n",
       "  margin: -1px;\n",
       "  overflow: hidden;\n",
       "  padding: 0;\n",
       "  position: absolute;\n",
       "  width: 1px;\n",
       "}\n",
       "\n",
       "#sk-container-id-6 div.sk-dashed-wrapped {\n",
       "  border: 1px dashed var(--sklearn-color-line);\n",
       "  margin: 0 0.4em 0.5em 0.4em;\n",
       "  box-sizing: border-box;\n",
       "  padding-bottom: 0.4em;\n",
       "  background-color: var(--sklearn-color-background);\n",
       "}\n",
       "\n",
       "#sk-container-id-6 div.sk-container {\n",
       "  /* jupyter's `normalize.less` sets `[hidden] { display: none; }`\n",
       "     but bootstrap.min.css set `[hidden] { display: none !important; }`\n",
       "     so we also need the `!important` here to be able to override the\n",
       "     default hidden behavior on the sphinx rendered scikit-learn.org.\n",
       "     See: https://github.com/scikit-learn/scikit-learn/issues/21755 */\n",
       "  display: inline-block !important;\n",
       "  position: relative;\n",
       "}\n",
       "\n",
       "#sk-container-id-6 div.sk-text-repr-fallback {\n",
       "  display: none;\n",
       "}\n",
       "\n",
       "div.sk-parallel-item,\n",
       "div.sk-serial,\n",
       "div.sk-item {\n",
       "  /* draw centered vertical line to link estimators */\n",
       "  background-image: linear-gradient(var(--sklearn-color-text-on-default-background), var(--sklearn-color-text-on-default-background));\n",
       "  background-size: 2px 100%;\n",
       "  background-repeat: no-repeat;\n",
       "  background-position: center center;\n",
       "}\n",
       "\n",
       "/* Parallel-specific style estimator block */\n",
       "\n",
       "#sk-container-id-6 div.sk-parallel-item::after {\n",
       "  content: \"\";\n",
       "  width: 100%;\n",
       "  border-bottom: 2px solid var(--sklearn-color-text-on-default-background);\n",
       "  flex-grow: 1;\n",
       "}\n",
       "\n",
       "#sk-container-id-6 div.sk-parallel {\n",
       "  display: flex;\n",
       "  align-items: stretch;\n",
       "  justify-content: center;\n",
       "  background-color: var(--sklearn-color-background);\n",
       "  position: relative;\n",
       "}\n",
       "\n",
       "#sk-container-id-6 div.sk-parallel-item {\n",
       "  display: flex;\n",
       "  flex-direction: column;\n",
       "}\n",
       "\n",
       "#sk-container-id-6 div.sk-parallel-item:first-child::after {\n",
       "  align-self: flex-end;\n",
       "  width: 50%;\n",
       "}\n",
       "\n",
       "#sk-container-id-6 div.sk-parallel-item:last-child::after {\n",
       "  align-self: flex-start;\n",
       "  width: 50%;\n",
       "}\n",
       "\n",
       "#sk-container-id-6 div.sk-parallel-item:only-child::after {\n",
       "  width: 0;\n",
       "}\n",
       "\n",
       "/* Serial-specific style estimator block */\n",
       "\n",
       "#sk-container-id-6 div.sk-serial {\n",
       "  display: flex;\n",
       "  flex-direction: column;\n",
       "  align-items: center;\n",
       "  background-color: var(--sklearn-color-background);\n",
       "  padding-right: 1em;\n",
       "  padding-left: 1em;\n",
       "}\n",
       "\n",
       "\n",
       "/* Toggleable style: style used for estimator/Pipeline/ColumnTransformer box that is\n",
       "clickable and can be expanded/collapsed.\n",
       "- Pipeline and ColumnTransformer use this feature and define the default style\n",
       "- Estimators will overwrite some part of the style using the `sk-estimator` class\n",
       "*/\n",
       "\n",
       "/* Pipeline and ColumnTransformer style (default) */\n",
       "\n",
       "#sk-container-id-6 div.sk-toggleable {\n",
       "  /* Default theme specific background. It is overwritten whether we have a\n",
       "  specific estimator or a Pipeline/ColumnTransformer */\n",
       "  background-color: var(--sklearn-color-background);\n",
       "}\n",
       "\n",
       "/* Toggleable label */\n",
       "#sk-container-id-6 label.sk-toggleable__label {\n",
       "  cursor: pointer;\n",
       "  display: block;\n",
       "  width: 100%;\n",
       "  margin-bottom: 0;\n",
       "  padding: 0.5em;\n",
       "  box-sizing: border-box;\n",
       "  text-align: center;\n",
       "}\n",
       "\n",
       "#sk-container-id-6 label.sk-toggleable__label-arrow:before {\n",
       "  /* Arrow on the left of the label */\n",
       "  content: \"▸\";\n",
       "  float: left;\n",
       "  margin-right: 0.25em;\n",
       "  color: var(--sklearn-color-icon);\n",
       "}\n",
       "\n",
       "#sk-container-id-6 label.sk-toggleable__label-arrow:hover:before {\n",
       "  color: var(--sklearn-color-text);\n",
       "}\n",
       "\n",
       "/* Toggleable content - dropdown */\n",
       "\n",
       "#sk-container-id-6 div.sk-toggleable__content {\n",
       "  max-height: 0;\n",
       "  max-width: 0;\n",
       "  overflow: hidden;\n",
       "  text-align: left;\n",
       "  /* unfitted */\n",
       "  background-color: var(--sklearn-color-unfitted-level-0);\n",
       "}\n",
       "\n",
       "#sk-container-id-6 div.sk-toggleable__content.fitted {\n",
       "  /* fitted */\n",
       "  background-color: var(--sklearn-color-fitted-level-0);\n",
       "}\n",
       "\n",
       "#sk-container-id-6 div.sk-toggleable__content pre {\n",
       "  margin: 0.2em;\n",
       "  border-radius: 0.25em;\n",
       "  color: var(--sklearn-color-text);\n",
       "  /* unfitted */\n",
       "  background-color: var(--sklearn-color-unfitted-level-0);\n",
       "}\n",
       "\n",
       "#sk-container-id-6 div.sk-toggleable__content.fitted pre {\n",
       "  /* unfitted */\n",
       "  background-color: var(--sklearn-color-fitted-level-0);\n",
       "}\n",
       "\n",
       "#sk-container-id-6 input.sk-toggleable__control:checked~div.sk-toggleable__content {\n",
       "  /* Expand drop-down */\n",
       "  max-height: 200px;\n",
       "  max-width: 100%;\n",
       "  overflow: auto;\n",
       "}\n",
       "\n",
       "#sk-container-id-6 input.sk-toggleable__control:checked~label.sk-toggleable__label-arrow:before {\n",
       "  content: \"▾\";\n",
       "}\n",
       "\n",
       "/* Pipeline/ColumnTransformer-specific style */\n",
       "\n",
       "#sk-container-id-6 div.sk-label input.sk-toggleable__control:checked~label.sk-toggleable__label {\n",
       "  color: var(--sklearn-color-text);\n",
       "  background-color: var(--sklearn-color-unfitted-level-2);\n",
       "}\n",
       "\n",
       "#sk-container-id-6 div.sk-label.fitted input.sk-toggleable__control:checked~label.sk-toggleable__label {\n",
       "  background-color: var(--sklearn-color-fitted-level-2);\n",
       "}\n",
       "\n",
       "/* Estimator-specific style */\n",
       "\n",
       "/* Colorize estimator box */\n",
       "#sk-container-id-6 div.sk-estimator input.sk-toggleable__control:checked~label.sk-toggleable__label {\n",
       "  /* unfitted */\n",
       "  background-color: var(--sklearn-color-unfitted-level-2);\n",
       "}\n",
       "\n",
       "#sk-container-id-6 div.sk-estimator.fitted input.sk-toggleable__control:checked~label.sk-toggleable__label {\n",
       "  /* fitted */\n",
       "  background-color: var(--sklearn-color-fitted-level-2);\n",
       "}\n",
       "\n",
       "#sk-container-id-6 div.sk-label label.sk-toggleable__label,\n",
       "#sk-container-id-6 div.sk-label label {\n",
       "  /* The background is the default theme color */\n",
       "  color: var(--sklearn-color-text-on-default-background);\n",
       "}\n",
       "\n",
       "/* On hover, darken the color of the background */\n",
       "#sk-container-id-6 div.sk-label:hover label.sk-toggleable__label {\n",
       "  color: var(--sklearn-color-text);\n",
       "  background-color: var(--sklearn-color-unfitted-level-2);\n",
       "}\n",
       "\n",
       "/* Label box, darken color on hover, fitted */\n",
       "#sk-container-id-6 div.sk-label.fitted:hover label.sk-toggleable__label.fitted {\n",
       "  color: var(--sklearn-color-text);\n",
       "  background-color: var(--sklearn-color-fitted-level-2);\n",
       "}\n",
       "\n",
       "/* Estimator label */\n",
       "\n",
       "#sk-container-id-6 div.sk-label label {\n",
       "  font-family: monospace;\n",
       "  font-weight: bold;\n",
       "  display: inline-block;\n",
       "  line-height: 1.2em;\n",
       "}\n",
       "\n",
       "#sk-container-id-6 div.sk-label-container {\n",
       "  text-align: center;\n",
       "}\n",
       "\n",
       "/* Estimator-specific */\n",
       "#sk-container-id-6 div.sk-estimator {\n",
       "  font-family: monospace;\n",
       "  border: 1px dotted var(--sklearn-color-border-box);\n",
       "  border-radius: 0.25em;\n",
       "  box-sizing: border-box;\n",
       "  margin-bottom: 0.5em;\n",
       "  /* unfitted */\n",
       "  background-color: var(--sklearn-color-unfitted-level-0);\n",
       "}\n",
       "\n",
       "#sk-container-id-6 div.sk-estimator.fitted {\n",
       "  /* fitted */\n",
       "  background-color: var(--sklearn-color-fitted-level-0);\n",
       "}\n",
       "\n",
       "/* on hover */\n",
       "#sk-container-id-6 div.sk-estimator:hover {\n",
       "  /* unfitted */\n",
       "  background-color: var(--sklearn-color-unfitted-level-2);\n",
       "}\n",
       "\n",
       "#sk-container-id-6 div.sk-estimator.fitted:hover {\n",
       "  /* fitted */\n",
       "  background-color: var(--sklearn-color-fitted-level-2);\n",
       "}\n",
       "\n",
       "/* Specification for estimator info (e.g. \"i\" and \"?\") */\n",
       "\n",
       "/* Common style for \"i\" and \"?\" */\n",
       "\n",
       ".sk-estimator-doc-link,\n",
       "a:link.sk-estimator-doc-link,\n",
       "a:visited.sk-estimator-doc-link {\n",
       "  float: right;\n",
       "  font-size: smaller;\n",
       "  line-height: 1em;\n",
       "  font-family: monospace;\n",
       "  background-color: var(--sklearn-color-background);\n",
       "  border-radius: 1em;\n",
       "  height: 1em;\n",
       "  width: 1em;\n",
       "  text-decoration: none !important;\n",
       "  margin-left: 1ex;\n",
       "  /* unfitted */\n",
       "  border: var(--sklearn-color-unfitted-level-1) 1pt solid;\n",
       "  color: var(--sklearn-color-unfitted-level-1);\n",
       "}\n",
       "\n",
       ".sk-estimator-doc-link.fitted,\n",
       "a:link.sk-estimator-doc-link.fitted,\n",
       "a:visited.sk-estimator-doc-link.fitted {\n",
       "  /* fitted */\n",
       "  border: var(--sklearn-color-fitted-level-1) 1pt solid;\n",
       "  color: var(--sklearn-color-fitted-level-1);\n",
       "}\n",
       "\n",
       "/* On hover */\n",
       "div.sk-estimator:hover .sk-estimator-doc-link:hover,\n",
       ".sk-estimator-doc-link:hover,\n",
       "div.sk-label-container:hover .sk-estimator-doc-link:hover,\n",
       ".sk-estimator-doc-link:hover {\n",
       "  /* unfitted */\n",
       "  background-color: var(--sklearn-color-unfitted-level-3);\n",
       "  color: var(--sklearn-color-background);\n",
       "  text-decoration: none;\n",
       "}\n",
       "\n",
       "div.sk-estimator.fitted:hover .sk-estimator-doc-link.fitted:hover,\n",
       ".sk-estimator-doc-link.fitted:hover,\n",
       "div.sk-label-container:hover .sk-estimator-doc-link.fitted:hover,\n",
       ".sk-estimator-doc-link.fitted:hover {\n",
       "  /* fitted */\n",
       "  background-color: var(--sklearn-color-fitted-level-3);\n",
       "  color: var(--sklearn-color-background);\n",
       "  text-decoration: none;\n",
       "}\n",
       "\n",
       "/* Span, style for the box shown on hovering the info icon */\n",
       ".sk-estimator-doc-link span {\n",
       "  display: none;\n",
       "  z-index: 9999;\n",
       "  position: relative;\n",
       "  font-weight: normal;\n",
       "  right: .2ex;\n",
       "  padding: .5ex;\n",
       "  margin: .5ex;\n",
       "  width: min-content;\n",
       "  min-width: 20ex;\n",
       "  max-width: 50ex;\n",
       "  color: var(--sklearn-color-text);\n",
       "  box-shadow: 2pt 2pt 4pt #999;\n",
       "  /* unfitted */\n",
       "  background: var(--sklearn-color-unfitted-level-0);\n",
       "  border: .5pt solid var(--sklearn-color-unfitted-level-3);\n",
       "}\n",
       "\n",
       ".sk-estimator-doc-link.fitted span {\n",
       "  /* fitted */\n",
       "  background: var(--sklearn-color-fitted-level-0);\n",
       "  border: var(--sklearn-color-fitted-level-3);\n",
       "}\n",
       "\n",
       ".sk-estimator-doc-link:hover span {\n",
       "  display: block;\n",
       "}\n",
       "\n",
       "/* \"?\"-specific style due to the `<a>` HTML tag */\n",
       "\n",
       "#sk-container-id-6 a.estimator_doc_link {\n",
       "  float: right;\n",
       "  font-size: 1rem;\n",
       "  line-height: 1em;\n",
       "  font-family: monospace;\n",
       "  background-color: var(--sklearn-color-background);\n",
       "  border-radius: 1rem;\n",
       "  height: 1rem;\n",
       "  width: 1rem;\n",
       "  text-decoration: none;\n",
       "  /* unfitted */\n",
       "  color: var(--sklearn-color-unfitted-level-1);\n",
       "  border: var(--sklearn-color-unfitted-level-1) 1pt solid;\n",
       "}\n",
       "\n",
       "#sk-container-id-6 a.estimator_doc_link.fitted {\n",
       "  /* fitted */\n",
       "  border: var(--sklearn-color-fitted-level-1) 1pt solid;\n",
       "  color: var(--sklearn-color-fitted-level-1);\n",
       "}\n",
       "\n",
       "/* On hover */\n",
       "#sk-container-id-6 a.estimator_doc_link:hover {\n",
       "  /* unfitted */\n",
       "  background-color: var(--sklearn-color-unfitted-level-3);\n",
       "  color: var(--sklearn-color-background);\n",
       "  text-decoration: none;\n",
       "}\n",
       "\n",
       "#sk-container-id-6 a.estimator_doc_link.fitted:hover {\n",
       "  /* fitted */\n",
       "  background-color: var(--sklearn-color-fitted-level-3);\n",
       "}\n",
       "</style><div id=\"sk-container-id-6\" class=\"sk-top-container\"><div class=\"sk-text-repr-fallback\"><pre>DecisionTreeRegressor(max_depth=9, random_state=42)</pre><b>In a Jupyter environment, please rerun this cell to show the HTML representation or trust the notebook. <br />On GitHub, the HTML representation is unable to render, please try loading this page with nbviewer.org.</b></div><div class=\"sk-container\" hidden><div class=\"sk-item\"><div class=\"sk-estimator fitted sk-toggleable\"><input class=\"sk-toggleable__control sk-hidden--visually\" id=\"sk-estimator-id-6\" type=\"checkbox\" checked><label for=\"sk-estimator-id-6\" class=\"sk-toggleable__label fitted sk-toggleable__label-arrow fitted\">&nbsp;&nbsp;DecisionTreeRegressor<a class=\"sk-estimator-doc-link fitted\" rel=\"noreferrer\" target=\"_blank\" href=\"https://scikit-learn.org/1.5/modules/generated/sklearn.tree.DecisionTreeRegressor.html\">?<span>Documentation for DecisionTreeRegressor</span></a><span class=\"sk-estimator-doc-link fitted\">i<span>Fitted</span></span></label><div class=\"sk-toggleable__content fitted\"><pre>DecisionTreeRegressor(max_depth=9, random_state=42)</pre></div> </div></div></div></div>"
      ],
      "text/plain": [
       "DecisionTreeRegressor(max_depth=9, random_state=42)"
      ]
     },
     "execution_count": 171,
     "metadata": {},
     "output_type": "execute_result"
    }
   ],
   "source": [
    "from sklearn.tree import DecisionTreeRegressor\n",
    "model=DecisionTreeRegressor(max_depth=9, random_state=42)\n",
    "model.fit(x_train,y_train)"
   ]
  },
  {
   "cell_type": "code",
   "execution_count": 163,
   "id": "19c22c9b",
   "metadata": {},
   "outputs": [
    {
     "name": "stdout",
     "output_type": "stream",
     "text": [
      "MAE : 1.611448548170489\n",
      "RMSE: 2.4045615352953194\n",
      "R2  : 0.7635386727890365\n"
     ]
    },
    {
     "name": "stderr",
     "output_type": "stream",
     "text": [
      "d:\\Anaconda\\Anaconda inatller location\\Lib\\site-packages\\sklearn\\metrics\\_regression.py:492: FutureWarning: 'squared' is deprecated in version 1.4 and will be removed in 1.6. To calculate the root mean squared error, use the function'root_mean_squared_error'.\n",
      "  warnings.warn(\n"
     ]
    }
   ],
   "source": [
    "from sklearn.metrics import mean_absolute_error, mean_squared_error, r2_score\n",
    "\n",
    "y_pred = model.predict(X_test)\n",
    "\n",
    "print(\"MAE :\", mean_absolute_error(y_test, y_pred))\n",
    "print(\"RMSE:\", mean_squared_error(y_test, y_pred, squared=False))\n",
    "print(\"R2  :\", r2_score(y_test, y_pred))"
   ]
  },
  {
   "cell_type": "code",
   "execution_count": 172,
   "id": "718caff9",
   "metadata": {},
   "outputs": [
    {
     "name": "stdout",
     "output_type": "stream",
     "text": [
      "Train R2: 0.9791485980566431\n",
      "Test R2 : 0.7524829333367083\n"
     ]
    }
   ],
   "source": [
    "y_train_pred = model.predict(x_train)\n",
    "\n",
    "from sklearn.metrics import r2_score\n",
    "print(\"Train R2:\", r2_score(y_train, y_train_pred))\n",
    "y_test_pred = model.predict(X_test)\n",
    "print(\"Test R2 :\", r2_score(y_test, y_test_pred))"
   ]
  },
  {
   "cell_type": "code",
   "execution_count": 166,
   "id": "b8e68eed",
   "metadata": {},
   "outputs": [],
   "source": [
    "df.to_csv(\"clean_dataset.csv\", index=False)\n"
   ]
  },
  {
   "cell_type": "code",
   "execution_count": 173,
   "id": "2122b271",
   "metadata": {},
   "outputs": [],
   "source": [
    "import pickle\n",
    "pickle.dump(model,open(\"Decition_Tree_Regressor_Model.pkl\", \"wb\"))\n"
   ]
  },
  {
   "cell_type": "code",
   "execution_count": null,
   "id": "a06f0b4b",
   "metadata": {},
   "outputs": [],
   "source": []
  }
 ],
 "metadata": {
  "kernelspec": {
   "display_name": "base",
   "language": "python",
   "name": "python3"
  },
  "language_info": {
   "codemirror_mode": {
    "name": "ipython",
    "version": 3
   },
   "file_extension": ".py",
   "mimetype": "text/x-python",
   "name": "python",
   "nbconvert_exporter": "python",
   "pygments_lexer": "ipython3",
   "version": "3.12.7"
  }
 },
 "nbformat": 4,
 "nbformat_minor": 5
}
